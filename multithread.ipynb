{
 "cells": [
  {
   "cell_type": "code",
   "execution_count": 43,
   "metadata": {},
   "outputs": [],
   "source": [
    "import threading\n",
    "import urllib.request\n",
    "def multidatathread(data,storage):\n",
    "    urllib.request.urlretrieve(data,storage)\n",
    "storage=[\"thread1.txt\",\"thread2.txt\",\"thread3.txt\"]\n",
    "data=['https://en.wikipedia.org/wiki/Text_messaging','https://en.wikipedia.org/wiki/Text_messaging','https://en.wikipedia.org/wiki/Text_messaging']\n",
    "ther=[threading.Thread(target=multidatathread,args=(data[i],storage[i])) for i in range(3)]\n",
    "for t in ther:\n",
    "    t.start()\n",
    "\n",
    "           \n"
   ]
  },
  {
   "cell_type": "code",
   "execution_count": null,
   "metadata": {},
   "outputs": [],
   "source": [
    "\n"
   ]
  }
 ],
 "metadata": {
  "kernelspec": {
   "display_name": "Python 3",
   "language": "python",
   "name": "python3"
  },
  "language_info": {
   "codemirror_mode": {
    "name": "ipython",
    "version": 3
   },
   "file_extension": ".py",
   "mimetype": "text/x-python",
   "name": "python",
   "nbconvert_exporter": "python",
   "pygments_lexer": "ipython3",
   "version": "3.9.6"
  }
 },
 "nbformat": 4,
 "nbformat_minor": 2
}
